{
 "cells": [
  {
   "cell_type": "markdown",
   "metadata": {},
   "source": [
    "# AP-v9-4-Data analysis and visualization"
   ]
  },
  {
   "cell_type": "code",
   "execution_count": 2,
   "metadata": {},
   "outputs": [],
   "source": [
    "import csv\n",
    "import re\n",
    "import os\n",
    "\n",
    "import matplotlib.pyplot as plt\n",
    "import pandas as pd\n",
    "import numpy as np\n",
    "import nltk\n",
    "\n",
    "import lab_2_1\n",
    "\n",
    "from typing import List, Dict\n",
    "\n",
    "from nltk.corpus import stopwords\n",
    "from pymystem3 import Mystem\n",
    "from collections import Counter\n"
   ]
  },
  {
   "cell_type": "markdown",
   "metadata": {},
   "source": [
    "Функция читает данные датасета и создает DataFrame в формате num mark, text. Строки с невалидными значениями удаляются."
   ]
  },
  {
   "cell_type": "code",
   "execution_count": 4,
   "metadata": {},
   "outputs": [
    {
     "name": "stdout",
     "output_type": "stream",
     "text": [
      "     num                                               text\n",
      "0      1  Заказывал четыре кресло для салона в 2 сентябр...\n",
      "1      1  Вайбериз- это бандитская организация. Заказала...\n",
      "2      1  Доброго времени суток! Тем кто читает данный т...\n",
      "3      1  Приветствую! Я уже 4 года активно заказываю на...\n",
      "4      1  Добрый день! Столкнулась с платформой Вайлдбер...\n",
      "...   ..                                                ...\n",
      "4995   5  В последнее время, во время изоляции, я нашла ...\n",
      "4996   5  Давно пользуюсь услугами данного маркетплейса,...\n",
      "4997   5  Интернет магазин отличный! пользуюсь им на про...\n",
      "4998   5  Очень крутой сайт и приложение, открыла для се...\n",
      "4999   5  Добрый день! Не понимаю, за что так ругают это...\n",
      "\n",
      "[5000 rows x 2 columns]\n"
     ]
    }
   ],
   "source": [
    "def make_df(path: str) -> pd.DataFrame:\n",
    "    \"\"\"Function gets path to dataset and make DataFrame with num mark and text field \n",
    "\n",
    "    Args:\n",
    "        path (str): path to dataset\n",
    "\n",
    "    Returns:\n",
    "        pd.DataFrame: ready-made dataset\n",
    "    \"\"\"\n",
    "    if 'paths.csv' not in os.listdir():\n",
    "        lab_2_1.make_csv(path)\n",
    "    num_list = []\n",
    "    text_list = []\n",
    "    r = open('paths.csv', 'r')\n",
    "    reader = list(csv.reader(r))\n",
    "    for item in reader:\n",
    "        f = open(item[0], 'r', encoding='utf-8')\n",
    "        text = f.read()\n",
    "        num_list.append(item[2])\n",
    "        text_list.append(text)\n",
    "    d = {'num': num_list, 'text': text_list}\n",
    "    df1 = pd.DataFrame(data=d)\n",
    "    df1 = df1.dropna()\n",
    "    return df1\n",
    "\n",
    "df = make_df('dataset')\n",
    "print(df)"
   ]
  },
  {
   "cell_type": "markdown",
   "metadata": {},
   "source": [
    "Функция добавляет в DataFrame стобец содержащий информацию о кол-ве слов в ячейке 'text'"
   ]
  },
  {
   "cell_type": "code",
   "execution_count": 5,
   "metadata": {},
   "outputs": [
    {
     "name": "stdout",
     "output_type": "stream",
     "text": [
      "     num                                               text  word_count\n",
      "0      1  Заказывал четыре кресло для салона в 2 сентябр...          83\n",
      "1      1  Вайбериз- это бандитская организация. Заказала...          95\n",
      "2      1  Доброго времени суток! Тем кто читает данный т...         127\n",
      "3      1  Приветствую! Я уже 4 года активно заказываю на...         255\n",
      "4      1  Добрый день! Столкнулась с платформой Вайлдбер...         437\n",
      "...   ..                                                ...         ...\n",
      "4995   5  В последнее время, во время изоляции, я нашла ...          75\n",
      "4996   5  Давно пользуюсь услугами данного маркетплейса,...         107\n",
      "4997   5  Интернет магазин отличный! пользуюсь им на про...          91\n",
      "4998   5  Очень крутой сайт и приложение, открыла для се...          23\n",
      "4999   5  Добрый день! Не понимаю, за что так ругают это...         124\n",
      "\n",
      "[5000 rows x 3 columns]\n"
     ]
    }
   ],
   "source": [
    "def text_update(text: str) -> List[str]:\n",
    "    \"\"\"Function remove from text punctuation marks and split it\n",
    "\n",
    "    Args:\n",
    "        text (str): text for update\n",
    "\n",
    "    Returns:\n",
    "        List[str]: List with words from text\n",
    "    \"\"\"\n",
    "    text = re.sub(r\"[^\\w\\s]\", \"\", text)\n",
    "    text = text.split()\n",
    "    return text\n",
    "\n",
    "\n",
    "def add_word_count(df: pd.DataFrame) -> None:\n",
    "    \"\"\"Function add to DataFrame column with word count information \n",
    "\n",
    "    Args:\n",
    "        df (pd.DataFrame): DataFrame to edit\n",
    "    \"\"\"\n",
    "    df['word_count'] = 0\n",
    "    for i in range(len(df)):\n",
    "        df.iloc[i, 2] = len(text_update(df.iloc[i, 1]))\n",
    "\n",
    "\n",
    "add_word_count(df)\n",
    "print(df)"
   ]
  },
  {
   "cell_type": "markdown",
   "metadata": {},
   "source": [
    "Функция вычисляет среднее кол-во слов для каждой метки класса"
   ]
  },
  {
   "cell_type": "code",
   "execution_count": 6,
   "metadata": {},
   "outputs": [
    {
     "name": "stdout",
     "output_type": "stream",
     "text": [
      "     word_count\n",
      "num            \n",
      "1       210.682\n",
      "2       179.693\n",
      "3       165.844\n",
      "4       194.616\n",
      "5       169.618\n"
     ]
    }
   ],
   "source": [
    "def stats_by_word_count(df: pd.DataFrame) -> pd.DataFrame:\n",
    "    \"\"\"Function make DataFrame with information about average number of word to every mark\n",
    "\n",
    "    Args:\n",
    "        df (pd.DataFrame): DataFrame with text information\n",
    "\n",
    "    Returns:\n",
    "        pd.DataFrame: DataFrame num mark: word count\n",
    "    \"\"\"\n",
    "    return df[[\"num\", \"word_count\"]].groupby(\"num\").mean()\n",
    "\n",
    "\n",
    "stat_df = stats_by_word_count(df)\n",
    "print(stat_df)"
   ]
  },
  {
   "cell_type": "markdown",
   "metadata": {},
   "source": [
    "Функция фильтрует DataFrame по кол-ву слов(<= max_count)"
   ]
  },
  {
   "cell_type": "code",
   "execution_count": 7,
   "metadata": {},
   "outputs": [
    {
     "name": "stdout",
     "output_type": "stream",
     "text": [
      "     num                                               text  word_count\n",
      "0      1  Заказывал четыре кресло для салона в 2 сентябр...          83\n",
      "1      1  Вайбериз- это бандитская организация. Заказала...          95\n",
      "8      1  Заказал аккумулятор на телефон. Связаться до з...          73\n",
      "9      1  Заказывал через валдберриз, пришел товар на 2 ...          42\n",
      "10     1  Заказали чашку в подарок за 385 р пришла разби...          99\n",
      "...   ..                                                ...         ...\n",
      "4992   5  Я очень часто бываю на праздниках и всегда был...          97\n",
      "4994   5  Очень нравится этот интернет-магазин, много че...          24\n",
      "4995   5  В последнее время, во время изоляции, я нашла ...          75\n",
      "4997   5  Интернет магазин отличный! пользуюсь им на про...          91\n",
      "4998   5  Очень крутой сайт и приложение, открыла для се...          23\n",
      "\n",
      "[1506 rows x 3 columns]\n"
     ]
    }
   ],
   "source": [
    "def sort_by_word_count(df: pd.DataFrame, max_count: int) -> pd.DataFrame:\n",
    "    \"\"\"The function creates a dataframe by removing lines with a word count exceeding max count\n",
    "\n",
    "    Args:\n",
    "        df (pd.DataFrame): DataFrame with text information\n",
    "        max_count (int): max count of words count\n",
    "\n",
    "    Returns:\n",
    "        pd.DataFrame: DataFrame with a word count exceeding max count\n",
    "    \"\"\"\n",
    "    new_df = df.loc[df['word_count'] <= max_count]\n",
    "    return new_df\n",
    "\n",
    "\n",
    "sorted_df = sort_by_word_count(df, 100)\n",
    "print(sorted_df)"
   ]
  },
  {
   "cell_type": "markdown",
   "metadata": {},
   "source": [
    "Функция фильтрует DataFrame по метке класса "
   ]
  },
  {
   "cell_type": "code",
   "execution_count": 8,
   "metadata": {},
   "outputs": [
    {
     "name": "stdout",
     "output_type": "stream",
     "text": [
      "     num                                               text  word_count\n",
      "4000   5  Приветствую Вас дорогие друзья и читатели!Я зн...         445\n",
      "4001   5  Всем прекрасного и отличного дня, друзья!Сегод...         312\n",
      "4002   5  Наверное уже с полгода заказываю на сайте комп...         145\n",
      "4003   5  Всем большой привет!Нечасто я покупаю себе как...        1226\n",
      "4004   5  Всем хорошего дня. Хочу сегодня поделиться с в...         329\n",
      "...   ..                                                ...         ...\n",
      "4995   5  В последнее время, во время изоляции, я нашла ...          75\n",
      "4996   5  Давно пользуюсь услугами данного маркетплейса,...         107\n",
      "4997   5  Интернет магазин отличный! пользуюсь им на про...          91\n",
      "4998   5  Очень крутой сайт и приложение, открыла для се...          23\n",
      "4999   5  Добрый день! Не понимаю, за что так ругают это...         124\n",
      "\n",
      "[1000 rows x 3 columns]\n"
     ]
    }
   ],
   "source": [
    "def sort_by_num(df: pd.DataFrame, num: str) -> pd.DataFrame:\n",
    "    \"\"\"Function sorts DataFrame by the num mark\n",
    "\n",
    "    Args:\n",
    "        df (pd.DataFrame): DataFrame to sort\n",
    "        num (str): num mark \n",
    "\n",
    "    Returns:\n",
    "        pd.DataFrame: sorted DataFrame\n",
    "    \"\"\"\n",
    "    new_df = df.loc[df['num'] == num]\n",
    "    return new_df\n",
    "\n",
    "df_num5 = sort_by_num(df, '5')\n",
    "print(df_num5)"
   ]
  },
  {
   "cell_type": "markdown",
   "metadata": {},
   "source": [
    "Функция группирует DataFrame по метке класса и вычисляет минимальное, максимальное и среднее кол-во слов "
   ]
  },
  {
   "cell_type": "code",
   "execution_count": 9,
   "metadata": {},
   "outputs": [
    {
     "name": "stdout",
     "output_type": "stream",
     "text": [
      "  num   max  min     mean\n",
      "0   1  1305   15  210.682\n",
      "1   2  1315   19  179.693\n",
      "2   3  1440   20  165.844\n",
      "3   4  2386   18  194.616\n",
      "4   5  1262   13  169.618\n"
     ]
    }
   ],
   "source": [
    "def group_by_num(df: pd.DataFrame) -> pd.DataFrame:\n",
    "    \"\"\"The function groups the dataframe by class label and \n",
    "    calculates the minimum and maximum number of words in the text\n",
    "\n",
    "    Args:\n",
    "        df (pd.DataFrame): DataFrame with text information\n",
    "\n",
    "    Returns:\n",
    "        pd.DataFrame: groupped DataFrame\n",
    "    \"\"\"\n",
    "    num = []\n",
    "    max = []\n",
    "    min = []\n",
    "    mean = []\n",
    "    groupped_d = {'num': num, 'max': max, 'min': min, 'mean': mean}\n",
    "    for i in range(1, 6):\n",
    "        num.append(str(i))\n",
    "        max.append((df.loc[df['num'] == str(i)]\n",
    "                   [['word_count']].max()).loc['word_count'])\n",
    "        min.append((df.loc[df['num'] == str(i)]\n",
    "                   [['word_count']].min()).loc['word_count'])\n",
    "        mean.append((df.loc[df['num'] == str(i)]\n",
    "                    [['word_count']].mean()).loc['word_count'])\n",
    "    groupped_df = pd.DataFrame(data=groupped_d)\n",
    "    return groupped_df\n",
    "\n",
    "\n",
    "groupped_df = group_by_num(df)\n",
    "print(groupped_df)"
   ]
  },
  {
   "cell_type": "markdown",
   "metadata": {},
   "source": [
    "Функция лемматизирует текст с использованием библиотеки nltk и pymystem3\n",
    "1) Выборка среди всех слов\n",
    "2) Выборка среди прилагательных и наречий "
   ]
  },
  {
   "cell_type": "code",
   "execution_count": 10,
   "metadata": {},
   "outputs": [
    {
     "name": "stdout",
     "output_type": "stream",
     "text": [
      "['мороз', 'солнце', 'день', 'чудесный', 'дремать', 'друг', 'прелестный', 'пора', 'красавица', 'просыпаться', 'открывать', 'смыкать', 'нега', 'взор', '\\n']\n",
      "['чудесный', 'прелестный']\n"
     ]
    }
   ],
   "source": [
    "mystem = Mystem()\n",
    "russian_stopwords = stopwords.words(\"russian\")\n",
    "\n",
    "\n",
    "def preprocess_text(text: str) -> List[str]:\n",
    "    \"\"\"Function gets text, lemmatize them and removes stopwords\n",
    "\n",
    "    Args:\n",
    "        text (str): text for preprocess \n",
    "\n",
    "    Returns:\n",
    "        List[str]: preprocessed text\n",
    "    \"\"\"\n",
    "    tokens = mystem.lemmatize(text.lower())\n",
    "    tokens = [token for token in tokens if token not in russian_stopwords and token != \" \"]\n",
    "    return tokens\n",
    "\n",
    "\n",
    "def preprocess_text_only_A(text: str) -> List[str]:\n",
    "    \"\"\"Function gets text, lemmatize them and removes all word without adjective and adverb\n",
    "\n",
    "    Args:\n",
    "        text (str): text for preprocess\n",
    "\n",
    "    Returns:\n",
    "        List[str]: preprocessed text\n",
    "    \"\"\"\n",
    "    tokens = mystem.lemmatize(text.lower())\n",
    "    tokens = [token for token in tokens if token not in russian_stopwords]\n",
    "    text = \" \".join(tokens)\n",
    "    words = nltk.word_tokenize(text)\n",
    "    functors_pos = {'A=m', 'ADV'}\n",
    "    res = [word for word, pos in nltk.pos_tag(words, lang='rus')\n",
    "           if pos in functors_pos]\n",
    "    return res\n",
    "\n",
    "\n",
    "print(preprocess_text('Мороз и солнце день чудесный Еще ты дремлешь друг прелестный Пора красавица проснись Открой сомкнуты негой взор'))\n",
    "print(preprocess_text_only_A('Мороз и солнце день чудесный Еще ты дремлешь друг прелестный Пора красавица проснись Открой сомкнуты негой взор'))"
   ]
  },
  {
   "cell_type": "markdown",
   "metadata": {},
   "source": [
    "Фунция принимает список лемматизированных слов и с помощью Counter считает кол-во их повторений, создавая словарь слово:кол-во повторений"
   ]
  },
  {
   "cell_type": "markdown",
   "metadata": {},
   "source": [
    "Пример для 5 отзывов"
   ]
  },
  {
   "cell_type": "code",
   "execution_count": 13,
   "metadata": {},
   "outputs": [
    {
     "name": "stdout",
     "output_type": "stream",
     "text": [
      "[('вообще', 3), ('личный', 3), ('далее', 3), ('нормальный', 2), ('очень', 2), ('добрый', 2), ('далеко', 2), ('следующий', 2), ('компетентный', 1), ('бандитский', 1), ('сразу', 1), ('логистический', 1), ('удобный', 1), ('давний', 1), ('вполне', 1), ('обычный', 1), ('подходящий', 1), ('быстро', 1), ('расстроенный', 1), ('буто', 1), ('простой', 1), ('должный', 1), ('честно', 1), ('активно', 1), ('различный', 1), ('недавний', 1), ('банковский', 1), ('несколько', 1), ('разный', 1), ('последний', 1)]\n"
     ]
    }
   ],
   "source": [
    "def make_histogram(df: pd.DataFrame, num: str) -> Dict[str, int]:\n",
    "    \"\"\"Function make dictionary word: count by num marks for making histogram\n",
    "    Args:\n",
    "        df (pd.DataFrame): DataFrame with text information\n",
    "        num (str): num mark \n",
    "\n",
    "    Returns:\n",
    "        Dict[str, int]: dictionary word: count in num marks text\n",
    "    \"\"\"\n",
    "    res = []\n",
    "    lenght = len(df.loc[df['num'] == num]['text'])\n",
    "    for i in range(5):\n",
    "        text = df.loc[df['num'] == num]['text'].iloc[i]\n",
    "        text = preprocess_text_only_A(text)\n",
    "        res += text\n",
    "    res = dict(Counter(res))\n",
    "    res = sorted(res.items(), key=lambda item: item[1], reverse=True)\n",
    "    res = res[0:30]\n",
    "    return res\n",
    "\n",
    "hist = make_histogram(df, \"1\")\n",
    "print(hist)"
   ]
  },
  {
   "cell_type": "markdown",
   "metadata": {},
   "source": [
    "Функция строит гистограмму ось X - кол-во слов, ось Y - слово"
   ]
  },
  {
   "cell_type": "code",
   "execution_count": 15,
   "metadata": {},
   "outputs": [
    {
     "data": {
      "image/png": "[encoded data removed]",
      "text/plain": [
       "<Figure size 640x480 with 1 Axes>"
      ]
     },
     "metadata": {},
     "output_type": "display_data"
    }
   ],
   "source": [
    "def graph_build(hist_list: Dict[str, int]) -> None:\n",
    "    \"\"\"Function make plot with matplotlib x-axe is word count y-axe is word\n",
    "\n",
    "    Args:\n",
    "        hist_list (Dict[str, int]): dictionary word: num mark\n",
    "    \"\"\"\n",
    "    words = []\n",
    "    count = []\n",
    "    for i in range(len(hist_list)):\n",
    "        words.append(hist_list[i][0])\n",
    "        count.append(hist_list[i][1])\n",
    "\n",
    "    fig, ax = plt.subplots()\n",
    "\n",
    "    y_pos = np.arange(len(words))\n",
    "\n",
    "    ax.barh(y_pos, count, align='center')\n",
    "    ax.set_yticks(y_pos, labels=words)\n",
    "    ax.invert_yaxis()\n",
    "    ax.set_xlabel('Word count')\n",
    "    ax.set_title('The most popular words')\n",
    "\n",
    "    plt.show()\n",
    "\n",
    "\n",
    "\n",
    "graph_build(hist)"
   ]
  }
 ],
 "metadata": {
  "kernelspec": {
   "display_name": "data_processing",
   "language": "python",
   "name": "python3"
  },
  "language_info": {
   "codemirror_mode": {
    "name": "ipython",
    "version": 3
   },
   "file_extension": ".py",
   "mimetype": "text/x-python",
   "name": "python",
   "nbconvert_exporter": "python",
   "pygments_lexer": "ipython3",
   "version": "3.11.5"
  }
 },
 "nbformat": 4,
 "nbformat_minor": 2
}
